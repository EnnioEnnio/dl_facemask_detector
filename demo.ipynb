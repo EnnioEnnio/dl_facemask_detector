{
 "cells": [
  {
   "cell_type": "markdown",
   "id": "f7018e07-67bf-4281-9ff8-b457c668f0f7",
   "metadata": {},
   "source": [
    "# Facemask Classifier\n",
    "\n",
    "This notebook serves as a basic showcase of this project and the results we achieved.\n",
    "\n",
    "> **Note:** we assume that at this point you have already set up a virtual environment as outlined in the [README](./README.md) and that all necessary dependencies are installed."
   ]
  },
  {
   "cell_type": "markdown",
   "id": "0dcd5bfd-5ab2-42b4-a35d-2a1dc80aa0c7",
   "metadata": {},
   "source": [
    "First things first, get imports and setup out of the way."
   ]
  },
  {
   "cell_type": "code",
   "execution_count": null,
   "id": "3b9163bf-a16a-4d83-98de-08e8672b6b26",
   "metadata": {
    "tags": []
   },
   "outputs": [],
   "source": [
    "import torch\n",
    "import sys\n",
    "import os\n",
    "import random\n",
    "import matplotlib.pyplot as plt\n",
    "from torchvision.transforms.functional import to_pil_image\n",
    "import numpy as np"
   ]
  },
  {
   "cell_type": "code",
   "execution_count": null,
   "id": "d43ed172-66f7-4c46-ab8f-067e439a573b",
   "metadata": {
    "tags": []
   },
   "outputs": [],
   "source": [
    "# for the sake of consistency and reproducability in this demo, we set a fixed seed. But feel free to play around or omit this part.\n",
    "seed=1337\n",
    "torch.manual_seed(seed)\n",
    "random.seed(seed)"
   ]
  },
  {
   "cell_type": "markdown",
   "id": "dfb4b9d4-965c-4864-80ef-95026bbc64e2",
   "metadata": {},
   "source": [
    "Let's download the evaluation dataset. Note, the model was **not** trained on these images, although they stem from the same dataset. Refer to the project's [README](./README.md) for the original dataset source."
   ]
  },
  {
   "cell_type": "code",
   "execution_count": null,
   "id": "7d259703-2c02-47e9-9abe-aa2023d8ff18",
   "metadata": {
    "tags": []
   },
   "outputs": [],
   "source": [
    "from util import download_dataset, dataset_url\n",
    "dataset_path='dataset'\n",
    "download_dataset(dataset_url, out_path=dataset_path)"
   ]
  },
  {
   "cell_type": "markdown",
   "id": "695ddc56-d267-452c-a353-814631339166",
   "metadata": {},
   "source": [
    "Now for the pre-trained model."
   ]
  },
  {
   "cell_type": "code",
   "execution_count": null,
   "id": "5f8c3c6d-5bdb-46f4-a13e-4e42ea2b2e48",
   "metadata": {
    "tags": []
   },
   "outputs": [],
   "source": [
    "from util import download_model, model_url\n",
    "model_path='model.pt'\n",
    "download_model(model_url, out_path=model_path)"
   ]
  },
  {
   "cell_type": "markdown",
   "id": "cd98372f-5e58-45ee-9837-0c9ff48095b4",
   "metadata": {},
   "source": [
    "Let's choose a small subsample of images from the dataset and run our model against it."
   ]
  },
  {
   "cell_type": "code",
   "execution_count": null,
   "id": "2c9ec661-9886-4f88-8574-3117a8a812cf",
   "metadata": {
    "tags": []
   },
   "outputs": [],
   "source": [
    "from architecture import Model1\n",
    "from torchvision import transforms\n",
    "from torch.utils.data import DataLoader, random_split, Subset\n",
    "from torchvision.datasets import ImageFolder\n",
    "\n",
    "model = Model1()\n",
    "model.load_state_dict(torch.load(model_path))\n",
    "model.eval()\n",
    "\n",
    "testset_path = os.path.join(dataset_path, 'test')\n",
    "\n",
    "# collect data for displaying later\n",
    "eval_results=[]\n",
    "\n",
    "test_imgs = ImageFolder(\n",
    "        root=testset_path,\n",
    "        transform=transforms.Compose(\n",
    "            [\n",
    "                transforms.ToTensor(),\n",
    "                transforms.Resize((256, 256), antialias=True),\n",
    "            ]\n",
    "        ),\n",
    ")\n",
    "\n",
    "# try to use a perfect square, makes plotting calculations nicer :)\n",
    "num_samples=16\n",
    "test_set = Subset(test_imgs, random.sample(range(0, len(test_imgs)-1), num_samples))\n",
    "test_loader = DataLoader(test_set, shuffle=True)\n",
    "\n",
    "def get_class(idx):\n",
    "    return test_set.dataset.classes[idx]\n",
    "\n",
    "num_correct = 0\n",
    "for data, label in test_loader:\n",
    "    actual = label.item()\n",
    "    prediction = 1 if torch.sigmoid(model(data)).item() > 0.5 else 0\n",
    "    print(\n",
    "        f\"Actual: {actual} ({get_class(actual)}), Prediction: {prediction} ({get_class(prediction)})\"\n",
    "    )\n",
    "    eval_results.append( (data.squeeze(), prediction, actual) )\n",
    "    if actual == prediction:\n",
    "        num_correct += 1\n",
    "print(f\"Accuracy: {num_correct/num_samples}\")"
   ]
  },
  {
   "cell_type": "code",
   "execution_count": null,
   "id": "c103a974-a4d7-4957-ba3a-56f258b31df6",
   "metadata": {
    "tags": []
   },
   "outputs": [],
   "source": [
    "plt_samples=[test_set.dataset.imgs[x] for x in test_set.indices]\n",
    "axis = int(np.ceil(np.sqrt(num_samples)))\n",
    "fig, ax = plt.subplots(axis, axis, figsize = (16, 16))\n",
    "i = 0\n",
    "for row in range(axis):\n",
    "     ax_row = ax[row]\n",
    "     for column in range(axis):\n",
    "         ax_column = ax_row[column]\n",
    "         ax_column.set_xticklabels([])\n",
    "         ax_column.set_yticklabels([])\n",
    "         img = to_pil_image(eval_results[i][0])\n",
    "         ax_column.imshow(img, cmap='gray')\n",
    "         actual = eval_results[i][2]\n",
    "         predicted = eval_results[i][1]\n",
    "         is_correct = actual == predicted\n",
    "         col = 'blue'\n",
    "         ax_column.set_title(f\"actual: {get_class(actual)}\\npredicted: {get_class(predicted)}\",\n",
    "                    color = 'green' if is_correct else 'red')\n",
    "         i += 1"
   ]
  }
 ],
 "metadata": {
  "kernelspec": {
   "display_name": "Python 3 (ipykernel)",
   "language": "python",
   "name": "python3"
  },
  "language_info": {
   "codemirror_mode": {
    "name": "ipython",
    "version": 3
   },
   "file_extension": ".py",
   "mimetype": "text/x-python",
   "name": "python",
   "nbconvert_exporter": "python",
   "pygments_lexer": "ipython3",
   "version": "3.10.9"
  }
 },
 "nbformat": 4,
 "nbformat_minor": 5
}
